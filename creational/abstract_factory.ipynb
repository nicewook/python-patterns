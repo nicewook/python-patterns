{
 "cells": [
  {
   "cell_type": "markdown",
   "metadata": {},
   "source": [
    "# abstract factory\n",
    "\n",
    "## 패턴의 의의\n",
    "\n",
    "**Java 나 다른 언어**에서, Abstract Factory 는 인터페이스를 제공한다. <br>\n",
    "실제 클래스를 명시하지 않고도 related/dependent object 를 생성할 수 있는 인터페이스이다. <br>\n",
    "비즈니스 로직, 플랫폼 선택에 따라 오브젝트를 생성하는 것을 추상화 하겠다는 것이다. (아직까진 뭔말인지 모르겠음) <br>\n",
    "<br>\n",
    "**파이썬에서는** 인터페이스는 단순히 callable (= 빌트인 인터페이스 in Python) 이다. <br>\n",
    "일반적인 경우에는 클래스 자체를 callable 로 쓸 수도 있다. 파이썬에서 class 는 first class objects 이기 때문이다.\n",
    "\n",
    "\n",
    "## 예제 소개\n",
    "\n",
    "애완동물의 생성을 추상화하며, 우리가 어떤 factory 를 선택했는지에 좌우된다. (개, 고양이, 랜덤동물 등등) <br>\n",
    "이렇게 동작할 수 있는 이유는 개, 고양이, 랜덤 동물이 모두 공통 인터페이스를 가지기 때문이다. (생성시 callable, 그리고 .speak()) <br>\n",
    "이제 우리는 추상적으로 애완동물을 생성할 수 있으며, **결정은 나중에** 할수 있게 된다. \n",
    "\n",
    "## 실제적로 어느 경우에 많이 쓰이는가? \n",
    "\n",
    "## 참고 링크\n",
    "\n",
    "https://sourcemaking.com/design_patterns/abstract_factory <br>\n",
    "http://ginstrom.com/scribbles/2007/10/08/design-patterns-python-style/ <br>\n",
    "\n",
    "## TL;DR\n",
    "\n",
    "각각의 factory 를 encapsulate 하는 방법을 제공한다\n"
   ]
  },
  {
   "cell_type": "code",
   "execution_count": 19,
   "metadata": {},
   "outputs": [],
   "source": [
    "import random"
   ]
  },
  {
   "cell_type": "code",
   "execution_count": 20,
   "metadata": {},
   "outputs": [],
   "source": [
    "class PetShop(object):\n",
    "    \"\"\"A pet shop\"\"\"\n",
    "    \n",
    "    def __init__(self, animal_factory=None):\n",
    "        \"\"\"pet_factory is our abstract factory. We can set it at will.\"\"\"\n",
    "        \n",
    "        self.pet_factory = animal_factory\n",
    "        \n",
    "    def show_pet(self):\n",
    "        \"\"\"Creates and shows a pet using the abstract factory\"\"\"\n",
    "        \n",
    "        pet = self.pet_factory()  # 인스턴스 생성\n",
    "        print(\"우리는 이쁜 {}를 키운답니다.\".format(pet))\n",
    "        print(\"이 녀석은 {} 하고 짖는답니다.\".format(pet.speak()))\n",
    "        "
   ]
  },
  {
   "cell_type": "code",
   "execution_count": 21,
   "metadata": {},
   "outputs": [],
   "source": [
    "class Dog(object):\n",
    "    \n",
    "    def speak(self):\n",
    "        return \"멍멍\"\n",
    "    \n",
    "    def __str__(self):\n",
    "        return \"강아지\""
   ]
  },
  {
   "cell_type": "code",
   "execution_count": 22,
   "metadata": {},
   "outputs": [],
   "source": [
    "class Cat(object):\n",
    "    \n",
    "    def speak(self):\n",
    "        return \"야옹\"\n",
    "    \n",
    "    def __str__(self):\n",
    "        return \"야옹이\""
   ]
  },
  {
   "cell_type": "code",
   "execution_count": 23,
   "metadata": {},
   "outputs": [],
   "source": [
    "# Additional factories:\n",
    "\n",
    "# create a random animal\n",
    "def random_animal():\n",
    "    \"\"\"Let's be dynamic!\"\"\"\n",
    "    \n",
    "    return random.choice([Dog, Cat])()"
   ]
  },
  {
   "cell_type": "code",
   "execution_count": 25,
   "metadata": {},
   "outputs": [
    {
     "name": "stdout",
     "output_type": "stream",
     "text": [
      "우리는 이쁜 야옹이를 키운답니다.\n",
      "이 녀석은 야옹 하고 짖는답니다.\n",
      "\n",
      "우리는 이쁜 강아지를 키운답니다.\n",
      "이 녀석은 멍멍 하고 짖는답니다.\n",
      "==============================\n",
      "우리는 이쁜 강아지를 키운답니다.\n",
      "이 녀석은 멍멍 하고 짖는답니다.\n",
      "==============================\n",
      "우리는 이쁜 야옹이를 키운답니다.\n",
      "이 녀석은 야옹 하고 짖는답니다.\n",
      "==============================\n"
     ]
    }
   ],
   "source": [
    "# Show pets with various factories\n",
    "\n",
    "if __name__ == \"__main__\":\n",
    "    \n",
    "    # A Shop that sells only cats\n",
    "    cat_shop = PetShop(Cat)\n",
    "    cat_shop.show_pet()\n",
    "    print(\"\")\n",
    "    \n",
    "    # A Shop that sells random animals\n",
    "    shop =  PetShop(random_animal)\n",
    "    for i in range(3):\n",
    "        shop.show_pet()\n",
    "        print(\"=\"*30)"
   ]
  },
  {
   "cell_type": "markdown",
   "metadata": {},
   "source": [
    "# 후기\n",
    "\n",
    "- PetShop 클래스는 어떤 factory 가 들어올 지 모르는 상황\n",
    "- 다만 파라미터로(?) 받아들이는 factory 가 가진 __str__ 값과 speak() 함수를 가져다 쓴다. \n",
    "- 파이썬이라서 인터페이스가 어떤 기능을 가지는지 통제하는 부분이 없는 것 같긴 하다. (인터페이스 자체의 추상클래스가 없달까?)\n",
    "<br>\n",
    "<br>\n",
    "- PetShop 클래스를 인스턴스로 만들면서 우리는 어떤 factory를 사용할지 정하게 된다. \n",
    "- 만약에 안정한다면 어찌 되지? 확인해보자. 안되는구나. 이 경우는 꼭 들어가야할 파라미터구나. default 를 잘 정해얄 수 있겠다.\n",
    "\n",
    "<br>\n",
    "그런데 아직도 어떤 경우에 쓰이는지 모르겠다."
   ]
  },
  {
   "cell_type": "code",
   "execution_count": 27,
   "metadata": {},
   "outputs": [
    {
     "ename": "TypeError",
     "evalue": "'NoneType' object is not callable",
     "output_type": "error",
     "traceback": [
      "\u001b[1;31m---------------------------------------------------------------------------\u001b[0m",
      "\u001b[1;31mTypeError\u001b[0m                                 Traceback (most recent call last)",
      "\u001b[1;32m<ipython-input-27-01e1f64f5fee>\u001b[0m in \u001b[0;36m<module>\u001b[1;34m()\u001b[0m\n\u001b[0;32m      1\u001b[0m \u001b[0mnone_shop\u001b[0m \u001b[1;33m=\u001b[0m \u001b[0mPetShop\u001b[0m\u001b[1;33m(\u001b[0m\u001b[1;32mNone\u001b[0m\u001b[1;33m)\u001b[0m\u001b[1;33m\u001b[0m\u001b[0m\n\u001b[1;32m----> 2\u001b[1;33m \u001b[0mnone_shop\u001b[0m\u001b[1;33m.\u001b[0m\u001b[0mshow_pet\u001b[0m\u001b[1;33m(\u001b[0m\u001b[1;33m)\u001b[0m\u001b[1;33m\u001b[0m\u001b[0m\n\u001b[0m",
      "\u001b[1;32m<ipython-input-20-e6f5cb85919d>\u001b[0m in \u001b[0;36mshow_pet\u001b[1;34m(self)\u001b[0m\n\u001b[0;32m     10\u001b[0m         \u001b[1;34m\"\"\"Creates and shows a pet using the abstract factory\"\"\"\u001b[0m\u001b[1;33m\u001b[0m\u001b[0m\n\u001b[0;32m     11\u001b[0m \u001b[1;33m\u001b[0m\u001b[0m\n\u001b[1;32m---> 12\u001b[1;33m         \u001b[0mpet\u001b[0m \u001b[1;33m=\u001b[0m \u001b[0mself\u001b[0m\u001b[1;33m.\u001b[0m\u001b[0mpet_factory\u001b[0m\u001b[1;33m(\u001b[0m\u001b[1;33m)\u001b[0m  \u001b[1;31m# 인스턴스 생성\u001b[0m\u001b[1;33m\u001b[0m\u001b[0m\n\u001b[0m\u001b[0;32m     13\u001b[0m         \u001b[0mprint\u001b[0m\u001b[1;33m(\u001b[0m\u001b[1;34m\"우리는 이쁜 {}를 키운답니다.\"\u001b[0m\u001b[1;33m.\u001b[0m\u001b[0mformat\u001b[0m\u001b[1;33m(\u001b[0m\u001b[0mpet\u001b[0m\u001b[1;33m)\u001b[0m\u001b[1;33m)\u001b[0m\u001b[1;33m\u001b[0m\u001b[0m\n\u001b[0;32m     14\u001b[0m         \u001b[0mprint\u001b[0m\u001b[1;33m(\u001b[0m\u001b[1;34m\"이 녀석은 {} 하고 짖는답니다.\"\u001b[0m\u001b[1;33m.\u001b[0m\u001b[0mformat\u001b[0m\u001b[1;33m(\u001b[0m\u001b[0mpet\u001b[0m\u001b[1;33m.\u001b[0m\u001b[0mspeak\u001b[0m\u001b[1;33m(\u001b[0m\u001b[1;33m)\u001b[0m\u001b[1;33m)\u001b[0m\u001b[1;33m)\u001b[0m\u001b[1;33m\u001b[0m\u001b[0m\n",
      "\u001b[1;31mTypeError\u001b[0m: 'NoneType' object is not callable"
     ]
    }
   ],
   "source": [
    "none_shop = PetShop(None)\n",
    "none_shop.show_pet()"
   ]
  },
  {
   "cell_type": "code",
   "execution_count": null,
   "metadata": {},
   "outputs": [],
   "source": []
  }
 ],
 "metadata": {
  "kernelspec": {
   "display_name": "Python 3",
   "language": "python",
   "name": "python3"
  },
  "language_info": {
   "codemirror_mode": {
    "name": "ipython",
    "version": 3
   },
   "file_extension": ".py",
   "mimetype": "text/x-python",
   "name": "python",
   "nbconvert_exporter": "python",
   "pygments_lexer": "ipython3",
   "version": "3.6.5"
  }
 },
 "nbformat": 4,
 "nbformat_minor": 2
}
